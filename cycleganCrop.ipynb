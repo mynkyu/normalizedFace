{
 "cells": [
  {
   "cell_type": "code",
   "execution_count": 2,
   "metadata": {
    "collapsed": true,
    "deletable": true,
    "editable": true
   },
   "outputs": [],
   "source": [
    "from __future__ import print_function, division\n",
    "import cv2\n",
    "import os\n",
    "import glob\n",
    "from skimage import io, transform\n",
    "import pandas as pd\n",
    "import numpy as np\n",
    "import matplotlib.pyplot as plt\n",
    "\n",
    "#Ignore warnings\n",
    "import warnings\n",
    "warnings.filterwarnings('ignore')\n",
    "\n",
    "plt.ion() # interactive mode"
   ]
  },
  {
   "cell_type": "code",
   "execution_count": 9,
   "metadata": {
    "collapsed": false,
    "deletable": true,
    "editable": true
   },
   "outputs": [
    {
     "name": "stdout",
     "output_type": "stream",
     "text": [
      "['./photo/croptest/000001.jpg', './photo/croptest/72043.jpg', './photo/croptest/portraittest.jpeg', './photo/croptest/porttest2.jpeg']\n"
     ]
    }
   ],
   "source": [
    "\"\"\"\n",
    "crop and save face from images in faces folder\n",
    "images will be saved in faces_resize\n",
    "\"\"\"\n",
    "\n",
    "def crop_resize_face(dirname=\"photo/croptest\", image_type=('*.jpg', '*jpeg', '*.png'), size=(256,256)):\n",
    "    file_list = []\n",
    "    for files in image_type:\n",
    "        file_list.extend(glob.glob('./' + dirname + '/' + files))    \n",
    "    cascPath = \"haarcascade_frontalface_default.xml\"\n",
    "    faceCascade = cv2.CascadeClassifier(cascPath)\n",
    "    \n",
    "    print(file_list)\n",
    "    #Make directory\n",
    "    directory = \"faces_resize\"\n",
    "    if not os.path.exists(directory):\n",
    "        os.mkdir(directory)\n",
    "\n",
    "    for i in range(len(file_list)):\n",
    "        # Read the image\n",
    "        image = cv2.imread(file_list[i])\n",
    "        gray = cv2.cvtColor(image, cv2.COLOR_BGR2GRAY)\n",
    "\n",
    "        # Detect faces in the image\n",
    "        faces = faceCascade.detectMultiScale(\n",
    "            gray,\n",
    "            scaleFactor=1.5,\n",
    "            minNeighbors=5,\n",
    "            minSize=(20, 20),\n",
    "            flags = cv2.CASCADE_SCALE_IMAGE\n",
    "        )\n",
    "\n",
    "        paddingRatio = 0.2\n",
    "        # Crop and resize the faces\n",
    "        for (x, y, w, h) in faces:\n",
    "            p = int(round(h * paddingRatio)) \n",
    "            \n",
    "            y0 = max([0, y-p])\n",
    "            x0 = max([0, x-p])\n",
    "            \n",
    "            sub_face = image[y0:y+h+p, x0:x+w+p]\n",
    "            resize_face = cv2.resize(sub_face, size, interpolation = cv2.INTER_CUBIC)\n",
    "            resize_fname = file_list[i].replace(dirname, \"faces_resize\")\n",
    "            cv2.imwrite(resize_fname, resize_face)\n",
    "\n",
    "crop_resize_face()"
   ]
  },
  {
   "cell_type": "code",
   "execution_count": 49,
   "metadata": {
    "collapsed": false,
    "deletable": true,
    "editable": true
   },
   "outputs": [],
   "source": [
    "# img = io.imread('./faces_resize/72019.jpg') \n",
    "# plt.imshow(img)"
   ]
  },
  {
   "cell_type": "code",
   "execution_count": null,
   "metadata": {
    "collapsed": true,
    "deletable": true,
    "editable": true
   },
   "outputs": [],
   "source": []
  }
 ],
 "metadata": {
  "kernelspec": {
   "display_name": "Python 3",
   "language": "python",
   "name": "python3"
  },
  "language_info": {
   "codemirror_mode": {
    "name": "ipython",
    "version": 3
   },
   "file_extension": ".py",
   "mimetype": "text/x-python",
   "name": "python",
   "nbconvert_exporter": "python",
   "pygments_lexer": "ipython3",
   "version": "3.6.1"
  }
 },
 "nbformat": 4,
 "nbformat_minor": 2
}
